{
 "cells": [
  {
   "cell_type": "code",
   "execution_count": 1,
   "id": "7001143b",
   "metadata": {},
   "outputs": [],
   "source": [
    "import warnings\n",
    "# warnings.simplefilter('ignore')\n",
    "\n",
    "import pandas as pd\n",
    "import numpy as np\n",
    "import matplotlib.pyplot as plt\n",
    "import gc,os,random\n",
    "import time,datetime\n",
    "from tqdm import tqdm\n",
    "\n"
   ]
  },
  {
   "cell_type": "code",
   "execution_count": 10,
   "id": "0a43ab88",
   "metadata": {},
   "outputs": [],
   "source": [
    "# Scores without ensemble\n",
    "# LGB_with_manual_feature 0.8079\n",
    "# LGB_with_manual_feature_and_series_oof  0.8045\n",
    "# NN_with_series_feature 0.8000   \n",
    "# NN_with_series_and_manual_feature 0.7975      \n",
    "\n",
    "\n",
    "p0 = pd.read_csv('./o_debug/LGB_with_manual_feature/submission_fnl.csv.zip').sort_values(by=\"customer_ID\").reset_index(drop=True)\n",
    "p1 = pd.read_csv('./o_debug/LGB_with_manual_feature_and_series_oof/submission_fnl.csv.zip').sort_values(by=\"customer_ID\").reset_index(drop=True)\n",
    "p2 = pd.read_csv('./output/NN_with_series_feature/submission.csv.zip').sort_values(by=\"customer_ID\").reset_index(drop=True)\n",
    "p3 = pd.read_csv('./output/NN_with_series_and_manual_feature/submission.csv.zip').sort_values(by=\"customer_ID\").reset_index(drop=True)\n",
    "\n",
    "# p0['prediction'] = p0['prediction']*0.35 + p1['prediction']*0.3 + p2['prediction']*0.21 + p3['prediction']*0.16\n",
    "\n",
    "# Best\n",
    "p0['prediction'] = p0['prediction']*0.52 + p1['prediction']*0.25 + p2['prediction']*0.15 + p3['prediction']*0.10\n",
    "\n",
    "p0.to_csv('./final_submission.csv.zip',index=False, compression='zip')"
   ]
  },
  {
   "cell_type": "code",
   "execution_count": null,
   "id": "04489abd",
   "metadata": {},
   "outputs": [],
   "source": [
    "# Score after ensemble 0.80785"
   ]
  },
  {
   "cell_type": "code",
   "execution_count": null,
   "id": "51ddc4c2",
   "metadata": {},
   "outputs": [],
   "source": []
  }
 ],
 "metadata": {
  "kernelspec": {
   "display_name": "Python 3 (ipykernel)",
   "language": "python",
   "name": "python3"
  },
  "language_info": {
   "codemirror_mode": {
    "name": "ipython",
    "version": 3
   },
   "file_extension": ".py",
   "mimetype": "text/x-python",
   "name": "python",
   "nbconvert_exporter": "python",
   "pygments_lexer": "ipython3",
   "version": "3.7.12"
  }
 },
 "nbformat": 4,
 "nbformat_minor": 5
}
